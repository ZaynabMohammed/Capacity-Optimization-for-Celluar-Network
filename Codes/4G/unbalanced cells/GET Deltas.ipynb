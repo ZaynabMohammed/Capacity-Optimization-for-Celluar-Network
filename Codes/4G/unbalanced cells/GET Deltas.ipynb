{
 "metadata": {
  "language_info": {
   "codemirror_mode": {
    "name": "ipython",
    "version": 3
   },
   "file_extension": ".py",
   "mimetype": "text/x-python",
   "name": "python",
   "nbconvert_exporter": "python",
   "pygments_lexer": "ipython3",
   "version": "3.8.3"
  },
  "orig_nbformat": 2,
  "kernelspec": {
   "name": "python383jvsc74a57bd0cc5f70855ac006f3de45a3cc3b9e7d8d53845e50458809cb162b0174266dec97",
   "display_name": "Python 3.8.3 64-bit ('base': conda)"
  },
  "metadata": {
   "interpreter": {
    "hash": "a2b923c536f7b2ff6abff42f461db4a8f446db7981955f7a14121e5877ed5ec3"
   }
  }
 },
 "nbformat": 4,
 "nbformat_minor": 2,
 "cells": [
  {
   "cell_type": "code",
   "execution_count": 2,
   "metadata": {},
   "outputs": [],
   "source": [
    "import pandas as pd \n",
    "import numpy as np "
   ]
  },
  {
   "cell_type": "code",
   "execution_count": 2,
   "metadata": {},
   "outputs": [],
   "source": [
    "data = pd.read_csv('UTILIZATIONandDROPS.csv')"
   ]
  },
  {
   "cell_type": "code",
   "execution_count": 12,
   "metadata": {},
   "outputs": [],
   "source": [
    "bands = []\n",
    "sectorsIds = []\n",
    "sites = []"
   ]
  },
  {
   "cell_type": "code",
   "execution_count": 5,
   "metadata": {},
   "outputs": [],
   "source": [
    "data.drop('Date', axis=1, inplace=True)"
   ]
  },
  {
   "cell_type": "code",
   "execution_count": 6,
   "metadata": {},
   "outputs": [],
   "source": [
    "data.dropna(axis=0, how='all', inplace=True) "
   ]
  },
  {
   "cell_type": "code",
   "execution_count": 13,
   "metadata": {},
   "outputs": [],
   "source": [
    "for ele in data['Cell Name']:\n",
    "    temp = ele.split('_')\n",
    "    bands.append(temp[0])\n",
    "    sites.append(temp[1])\n",
    "    sectorsIds.append(temp[2])"
   ]
  },
  {
   "cell_type": "code",
   "execution_count": 9,
   "metadata": {},
   "outputs": [],
   "source": [
    "smallData = {'(Voda)_CCE_Utilization(%)':data['(Voda) CCE Utilization(%)'], '(Voda)_PRB_DL_Utilization(%)':data['(Voda) PRB DL Utilization(%)'], '(Voda)_PRB_UL_Utilization(%)':data['(Voda) PRB UL Utilization(%)'], 'Service_Drop_Rate_(All)':data['Service Drop Rate (All)']}"
   ]
  },
  {
   "cell_type": "code",
   "execution_count": 11,
   "metadata": {},
   "outputs": [],
   "source": [
    "smallData = pd.DataFrame(smallData)"
   ]
  },
  {
   "cell_type": "code",
   "execution_count": 14,
   "metadata": {},
   "outputs": [],
   "source": [
    "smallData.insert(0, 'bands', bands, True)\n",
    "smallData.insert(1, 'sites', sites, True)\n",
    "smallData.insert(2, 'sectorIds', sectorsIds, True)"
   ]
  },
  {
   "cell_type": "code",
   "execution_count": 15,
   "metadata": {},
   "outputs": [
    {
     "output_type": "execute_result",
     "data": {
      "text/plain": [
       "  bands  sites sectorIds  (Voda)_CCE_Utilization(%)  \\\n",
       "0   L21  Site1        01                    44.2568   \n",
       "1   L21  Site1        02                    27.2966   \n",
       "2   L21  Site1        03                    28.6198   \n",
       "3   L21  Site2        01                    36.3747   \n",
       "4   L21  Site2        02                    24.3300   \n",
       "\n",
       "   (Voda)_PRB_DL_Utilization(%)  (Voda)_PRB_UL_Utilization(%)  \\\n",
       "0                       48.2988                       43.4383   \n",
       "1                       22.5306                       22.9326   \n",
       "2                       24.5355                       27.4412   \n",
       "3                       38.0686                       31.1015   \n",
       "4                       15.7554                       19.9034   \n",
       "\n",
       "   Service_Drop_Rate_(All)  \n",
       "0                   0.5995  \n",
       "1                   0.1747  \n",
       "2                   0.0892  \n",
       "3                   0.1868  \n",
       "4                   0.0521  "
      ],
      "text/html": "<div>\n<style scoped>\n    .dataframe tbody tr th:only-of-type {\n        vertical-align: middle;\n    }\n\n    .dataframe tbody tr th {\n        vertical-align: top;\n    }\n\n    .dataframe thead th {\n        text-align: right;\n    }\n</style>\n<table border=\"1\" class=\"dataframe\">\n  <thead>\n    <tr style=\"text-align: right;\">\n      <th></th>\n      <th>bands</th>\n      <th>sites</th>\n      <th>sectorIds</th>\n      <th>(Voda)_CCE_Utilization(%)</th>\n      <th>(Voda)_PRB_DL_Utilization(%)</th>\n      <th>(Voda)_PRB_UL_Utilization(%)</th>\n      <th>Service_Drop_Rate_(All)</th>\n    </tr>\n  </thead>\n  <tbody>\n    <tr>\n      <th>0</th>\n      <td>L21</td>\n      <td>Site1</td>\n      <td>01</td>\n      <td>44.2568</td>\n      <td>48.2988</td>\n      <td>43.4383</td>\n      <td>0.5995</td>\n    </tr>\n    <tr>\n      <th>1</th>\n      <td>L21</td>\n      <td>Site1</td>\n      <td>02</td>\n      <td>27.2966</td>\n      <td>22.5306</td>\n      <td>22.9326</td>\n      <td>0.1747</td>\n    </tr>\n    <tr>\n      <th>2</th>\n      <td>L21</td>\n      <td>Site1</td>\n      <td>03</td>\n      <td>28.6198</td>\n      <td>24.5355</td>\n      <td>27.4412</td>\n      <td>0.0892</td>\n    </tr>\n    <tr>\n      <th>3</th>\n      <td>L21</td>\n      <td>Site2</td>\n      <td>01</td>\n      <td>36.3747</td>\n      <td>38.0686</td>\n      <td>31.1015</td>\n      <td>0.1868</td>\n    </tr>\n    <tr>\n      <th>4</th>\n      <td>L21</td>\n      <td>Site2</td>\n      <td>02</td>\n      <td>24.3300</td>\n      <td>15.7554</td>\n      <td>19.9034</td>\n      <td>0.0521</td>\n    </tr>\n  </tbody>\n</table>\n</div>"
     },
     "metadata": {},
     "execution_count": 15
    }
   ],
   "source": [
    "smallData.head()"
   ]
  },
  {
   "cell_type": "code",
   "execution_count": 16,
   "metadata": {},
   "outputs": [],
   "source": [
    "smallData.to_csv('utilization.csv', index=False, index_label=False) "
   ]
  },
  {
   "cell_type": "code",
   "execution_count": 17,
   "metadata": {},
   "outputs": [],
   "source": [
    "data.to_csv('orignal_utilization.csv', index=False, index_label=False) "
   ]
  },
  {
   "cell_type": "code",
   "execution_count": 2,
   "metadata": {},
   "outputs": [],
   "source": [
    "######################################################################################################################\n",
    "data2 = pd.read_csv('Utilization.csv')"
   ]
  },
  {
   "cell_type": "code",
   "execution_count": 3,
   "metadata": {},
   "outputs": [],
   "source": [
    "data2.fillna(0,inplace=True);\n"
   ]
  },
  {
   "cell_type": "code",
   "execution_count": 4,
   "metadata": {},
   "outputs": [],
   "source": [
    "Site_Number=[]"
   ]
  },
  {
   "cell_type": "code",
   "execution_count": 5,
   "metadata": {},
   "outputs": [],
   "source": [
    "for ele in data2['sites']:\n",
    "    temp = ele.split('e')\n",
    "    Site_Number.append(temp[1])"
   ]
  },
  {
   "cell_type": "code",
   "execution_count": 6,
   "metadata": {},
   "outputs": [],
   "source": [
    "data2.insert(2, 'Site_Number', Site_Number, True)"
   ]
  },
  {
   "cell_type": "code",
   "execution_count": 7,
   "metadata": {},
   "outputs": [
    {
     "output_type": "execute_result",
     "data": {
      "text/plain": [
       "['bands',\n",
       " 'sites',\n",
       " 'Site_Number',\n",
       " 'sectorIds',\n",
       " '(Voda)_CCE_Utilization(%)',\n",
       " '(Voda)_PRB_DL_Utilization(%)',\n",
       " '(Voda)_PRB_UL_Utilization(%)',\n",
       " 'Service_Drop_Rate_(All)']"
      ]
     },
     "metadata": {},
     "execution_count": 7
    }
   ],
   "source": [
    "listCol = data2.columns.array.to_numpy().tolist()\n",
    "listCol"
   ]
  },
  {
   "cell_type": "code",
   "execution_count": 8,
   "metadata": {},
   "outputs": [
    {
     "output_type": "execute_result",
     "data": {
      "text/plain": [
       "str"
      ]
     },
     "metadata": {},
     "execution_count": 8
    }
   ],
   "source": [
    "type(data2['sectorIds'][2])"
   ]
  },
  {
   "cell_type": "code",
   "execution_count": 10,
   "metadata": {},
   "outputs": [
    {
     "output_type": "stream",
     "name": "stdout",
     "text": [
      "Site_Number\n"
     ]
    }
   ],
   "source": [
    "for x in listCol[2:3]:\n",
    "    print(x)\n",
    "    data2[x] = data2[x].astype('int64')"
   ]
  },
  {
   "cell_type": "code",
   "execution_count": 11,
   "metadata": {},
   "outputs": [
    {
     "output_type": "stream",
     "name": "stdout",
     "text": [
      "(Voda)_CCE_Utilization(%)\n(Voda)_PRB_DL_Utilization(%)\n(Voda)_PRB_UL_Utilization(%)\nService_Drop_Rate_(All)\n"
     ]
    }
   ],
   "source": [
    "for x in listCol[4:]:\n",
    "    print(x)\n",
    "    data2[x] = data2[x].astype(float)"
   ]
  },
  {
   "cell_type": "code",
   "execution_count": 12,
   "metadata": {},
   "outputs": [],
   "source": [
    "data2.to_csv('utilization_WithSiteNumber.csv', index=False, index_label=False)"
   ]
  },
  {
   "cell_type": "code",
   "execution_count": 2,
   "metadata": {},
   "outputs": [],
   "source": [
    "#########################################################\n",
    "data3 = pd.read_csv('utilization_WithSiteNumber.csv')"
   ]
  },
  {
   "cell_type": "code",
   "execution_count": 6,
   "metadata": {},
   "outputs": [
    {
     "output_type": "execute_result",
     "data": {
      "text/plain": [
       "4639"
      ]
     },
     "metadata": {},
     "execution_count": 6
    }
   ],
   "source": [
    "#max_nums_of_Sites = data3[\"Site_Number\"].max()\n",
    "#max_nums_of_Sites"
   ]
  },
  {
   "cell_type": "code",
   "execution_count": 7,
   "metadata": {},
   "outputs": [
    {
     "output_type": "execute_result",
     "data": {
      "text/plain": [
       "32"
      ]
     },
     "metadata": {},
     "execution_count": 7
    }
   ],
   "source": [
    "#max_nums_of_Sector_in_Site = data3[\"SECTORS_Ids\"].max()\n",
    "#max_nums_of_Sector_in_Site"
   ]
  },
  {
   "cell_type": "code",
   "execution_count": 3,
   "metadata": {},
   "outputs": [],
   "source": [
    "# Get indexes where name column has value 0\n",
    "indexNames = data3[ (data3['(Voda)_CCE_Utilization(%)'] == 0.0) \n",
    "                    &(data3['(Voda)_PRB_DL_Utilization(%)'] == 0.0)\n",
    "                    &(data3['(Voda)_PRB_UL_Utilization(%)'] == 0.0)\n",
    "                    &(data3['Service_Drop_Rate_(All)'] == 0.0)].index\n",
    "# Delete these row indexes from dataFrame\n",
    "data3.drop(indexNames , inplace=True)"
   ]
  },
  {
   "cell_type": "code",
   "execution_count": 11,
   "metadata": {},
   "outputs": [],
   "source": [
    "data3.to_csv('NO_Zero_Utilization.csv', index=False, index_label=False)"
   ]
  },
  {
   "cell_type": "code",
   "execution_count": 2,
   "metadata": {},
   "outputs": [],
   "source": [
    "###################################################################\n",
    "data4 = pd.read_csv('NO_Zero_Utilization.csv')"
   ]
  },
  {
   "cell_type": "code",
   "execution_count": 3,
   "metadata": {},
   "outputs": [],
   "source": [
    "cols = ['bands','sites', 'SECTORS_Ids']\n",
    "data4['CELL_Name'] = data4[cols].apply(lambda row: '_'.join(row.values.astype(str)), axis=1)"
   ]
  },
  {
   "cell_type": "code",
   "execution_count": 4,
   "metadata": {},
   "outputs": [],
   "source": [
    "# dropping_ALL_duplicte_cells_that_has_same_cellName\n",
    "data4.drop_duplicates(subset =\"CELL_Name\", inplace = True)"
   ]
  },
  {
   "cell_type": "code",
   "execution_count": 6,
   "metadata": {},
   "outputs": [],
   "source": [
    "data4.to_csv('After_droppingSameCells.csv', index=False, index_label=False)"
   ]
  },
  {
   "cell_type": "code",
   "execution_count": 7,
   "metadata": {},
   "outputs": [],
   "source": [
    "###################################################################\n",
    "data5 = pd.read_csv('After_droppingSameCells.csv')"
   ]
  },
  {
   "cell_type": "code",
   "execution_count": 5,
   "metadata": {},
   "outputs": [
    {
     "output_type": "execute_result",
     "data": {
      "text/plain": [
       "4638"
      ]
     },
     "metadata": {},
     "execution_count": 5
    }
   ],
   "source": [
    "#max_nums_of_Sites = data5[\"Site_Number\"].max()\n",
    "#max_nums_of_Sites"
   ]
  },
  {
   "cell_type": "code",
   "execution_count": 8,
   "metadata": {},
   "outputs": [
    {
     "output_type": "execute_result",
     "data": {
      "text/plain": [
       "6"
      ]
     },
     "metadata": {},
     "execution_count": 8
    }
   ],
   "source": [
    "#max_nums_of_Sector_in_Site = data5[\"SECTORS_Ids\"].max()\n",
    "#max_nums_of_Sector_in_Site"
   ]
  },
  {
   "cell_type": "code",
   "execution_count": 8,
   "metadata": {},
   "outputs": [],
   "source": [
    "data5.sort_values(by=['Site_Number','SECTORS_Ids'],inplace=True)"
   ]
  },
  {
   "cell_type": "code",
   "execution_count": 9,
   "metadata": {},
   "outputs": [],
   "source": [
    "data5.to_csv('data5.csv', index=False, index_label=False)"
   ]
  },
  {
   "cell_type": "code",
   "execution_count": 3,
   "metadata": {},
   "outputs": [],
   "source": [
    "#########---SORTED DATA\n",
    "Data5 = pd.read_csv('data5.csv')"
   ]
  },
  {
   "cell_type": "code",
   "execution_count": 21,
   "metadata": {},
   "outputs": [],
   "source": [
    "#data6=pd.DataFrame()\n",
    "#cols = ['sites', 'SECTORS_Ids']\n",
    "#data6['SiteWithSector'] = Data5[cols].apply(lambda row: '_'.join(row.values.astype(str)), axis=1)"
   ]
  },
  {
   "cell_type": "code",
   "execution_count": 4,
   "metadata": {},
   "outputs": [],
   "source": [
    "Site_Col_list = Data5['sites'].drop_duplicates().tolist()"
   ]
  },
  {
   "cell_type": "code",
   "execution_count": 5,
   "metadata": {},
   "outputs": [],
   "source": [
    "#---->get index of same Site NAME\n",
    "index_list = Data5.groupby(list(Data5['sites'])).apply(lambda x: tuple(x.index)).tolist()\n",
    "index_list.sort()"
   ]
  },
  {
   "cell_type": "code",
   "execution_count": 10,
   "metadata": {},
   "outputs": [
    {
     "output_type": "execute_result",
     "data": {
      "text/plain": [
       "(23158,\n",
       " 23159,\n",
       " 23160,\n",
       " 23161,\n",
       " 23162,\n",
       " 23163,\n",
       " 23164,\n",
       " 23165,\n",
       " 23166,\n",
       " 23167,\n",
       " 23168,\n",
       " 23169,\n",
       " 23170,\n",
       " 23171,\n",
       " 23172,\n",
       " 23173)"
      ]
     },
     "metadata": {},
     "execution_count": 10
    }
   ],
   "source": [
    "index_list[3237]"
   ]
  },
  {
   "cell_type": "code",
   "execution_count": 9,
   "metadata": {},
   "outputs": [
    {
     "output_type": "execute_result",
     "data": {
      "text/plain": [
       "'Site3277'"
      ]
     },
     "metadata": {},
     "execution_count": 9
    }
   ],
   "source": [
    "Site_Col_list[3237]"
   ]
  },
  {
   "cell_type": "code",
   "execution_count": 54,
   "metadata": {},
   "outputs": [],
   "source": [
    "#SITES_with_Indexs= pd.DataFrame()\n",
    "#SITES_with_Indexs.insert(0, 'sites', Site_Col_list, True)\n",
    "#SITES_with_Indexs.insert(1, 'row_index_in_Data5', index_list, True)"
   ]
  },
  {
   "cell_type": "code",
   "execution_count": 14,
   "metadata": {},
   "outputs": [],
   "source": [
    "#SITES_with_Indexs.to_csv('SITES_with_Indexs.csv', index=False, index_label=False)"
   ]
  },
  {
   "cell_type": "code",
   "execution_count": 11,
   "metadata": {},
   "outputs": [],
   "source": [
    "#######----->get Deltas Between Bands<-------########\n",
    "def getDeltas(DATA): \n",
    "    dict1={'sites':[],'Sector_num':[],'CCE_Delta_21_18': [],'CCE_Delta_21_26' :[], 'CCE_Delta_21_09' : [],\n",
    "                                     'UL_Delta_21_18' : [],'UL_Delta_21_26' : [], 'UL_Delta_21_09' :[],\n",
    "                                     'DL_Delta_21_18' :[],'DL_Delta_21_26' : [], 'DL_Delta_21_09' : [], }\n",
    "    bands_names=['L21','L18','L26','L09']\n",
    "    for tuple_index,site in enumerate (Site_Col_list):\n",
    "        for sector in range(1,7):\n",
    "            len_tuple=len(index_list[tuple_index])\n",
    "            CCE_UTLIZE_21=0;UL_UTLIZE_21=0;DL_UTLIZE_21=0;CCE_UTLIZE_18=0;UL_UTLIZE_18=0;DL_UTLIZE_18=0\n",
    "            CCE_UTLIZE_26=0;UL_UTLIZE_26=0;DL_UTLIZE_26=0;CCE_UTLIZE_09=0;UL_UTLIZE_09=0;DL_UTLIZE_09=0\n",
    "            for x in range(len_tuple):\n",
    "                row_num=index_list[tuple_index][x]\n",
    "                if sector == DATA['SECTORS_Ids'][row_num]:\n",
    "                    if DATA['bands'][row_num]==bands_names[0]:\n",
    "                         CCE_UTLIZE_21=DATA['(Voda)_CCE_Utilization(%)'][row_num]\n",
    "                         UL_UTLIZE_21=DATA['(Voda)_PRB_UL_Utilization(%)'][row_num]\n",
    "                         DL_UTLIZE_21=DATA['(Voda)_PRB_DL_Utilization(%)'][row_num]\n",
    "                         \n",
    "                    elif Data5['bands'][row_num]==bands_names[1]:  \n",
    "                         CCE_UTLIZE_18=DATA['(Voda)_CCE_Utilization(%)'][row_num]\n",
    "                         UL_UTLIZE_18=DATA['(Voda)_PRB_UL_Utilization(%)'][row_num]\n",
    "                         DL_UTLIZE_18=DATA['(Voda)_PRB_DL_Utilization(%)'][row_num]\n",
    "                         \n",
    "                    elif Data5['bands'][row_num]==bands_names[2]:\n",
    "                         CCE_UTLIZE_26=DATA['(Voda)_CCE_Utilization(%)'][row_num]\n",
    "                         UL_UTLIZE_26=DATA['(Voda)_PRB_UL_Utilization(%)'][row_num]\n",
    "                         DL_UTLIZE_26=DATA['(Voda)_PRB_DL_Utilization(%)'][row_num]\n",
    "\n",
    "                    else:\n",
    "                        CCE_UTLIZE_09=DATA['(Voda)_CCE_Utilization(%)'][row_num]\n",
    "                        UL_UTLIZE_09=DATA['(Voda)_PRB_UL_Utilization(%)'][row_num]\n",
    "                        DL_UTLIZE_09=DATA['(Voda)_PRB_DL_Utilization(%)'][row_num]\n",
    "                else: \n",
    "                     continue       \n",
    "\n",
    "            dict1['sites'].append(site)\n",
    "            dict1['Sector_num'].append(sector)\n",
    "            #####----CCE----------######\n",
    "            dict1['CCE_Delta_21_18'].append(CCE_UTLIZE_21-CCE_UTLIZE_18) if CCE_UTLIZE_18 !=0 else dict1['CCE_Delta_21_18'].append(' ')\n",
    "            dict1['CCE_Delta_21_26'].append(CCE_UTLIZE_21-CCE_UTLIZE_26) if CCE_UTLIZE_26 !=0 else dict1['CCE_Delta_21_26'].append(' ')\n",
    "            dict1['CCE_Delta_21_09'].append(CCE_UTLIZE_21-CCE_UTLIZE_09)  if CCE_UTLIZE_09 !=0 else dict1['CCE_Delta_21_09'].append(' ') \n",
    "            #####----UL----------#######\n",
    "            dict1['UL_Delta_21_18'].append(UL_UTLIZE_21-UL_UTLIZE_18) if UL_UTLIZE_18 !=0 else dict1['UL_Delta_21_18'].append(' ')\n",
    "            dict1['UL_Delta_21_26'].append(UL_UTLIZE_21-UL_UTLIZE_26) if UL_UTLIZE_26 !=0 else dict1['UL_Delta_21_26'].append(' ')\n",
    "            dict1['UL_Delta_21_09'].append(UL_UTLIZE_21-UL_UTLIZE_09)  if UL_UTLIZE_09 !=0 else dict1['UL_Delta_21_09'].append(' ')       \n",
    "            #####----DL-----------#######\n",
    "            dict1['DL_Delta_21_18'].append(DL_UTLIZE_21-DL_UTLIZE_18) if DL_UTLIZE_18 !=0 else dict1['DL_Delta_21_18'].append(' ')\n",
    "            dict1['DL_Delta_21_26'].append(DL_UTLIZE_21-DL_UTLIZE_26) if DL_UTLIZE_26 !=0 else dict1['DL_Delta_21_26'].append(' ')\n",
    "            dict1['DL_Delta_21_09'].append(DL_UTLIZE_21-DL_UTLIZE_09)  if DL_UTLIZE_09 !=0 else dict1['DL_Delta_21_09'].append(' ')                                     \n",
    "    return dict1 \n",
    "        "
   ]
  },
  {
   "cell_type": "code",
   "execution_count": 12,
   "metadata": {},
   "outputs": [],
   "source": [
    "c=getDeltas(Data5)"
   ]
  },
  {
   "cell_type": "code",
   "execution_count": 13,
   "metadata": {},
   "outputs": [],
   "source": [
    "data_utlize = pd.DataFrame.from_dict(c)"
   ]
  },
  {
   "cell_type": "code",
   "execution_count": 14,
   "metadata": {},
   "outputs": [],
   "source": [
    "data_utlize.to_csv('DeltasBetweenBands.csv', index=False, index_label=False)"
   ]
  },
  {
   "cell_type": "code",
   "execution_count": 3,
   "metadata": {},
   "outputs": [],
   "source": [
    "###########################----->Neglect_Empty_ROWS<-----################################\n",
    "DATA = pd.read_csv('DeltasBetweenBands.csv')"
   ]
  },
  {
   "cell_type": "code",
   "execution_count": 4,
   "metadata": {},
   "outputs": [
    {
     "output_type": "execute_result",
     "data": {
      "text/plain": [
       "Index(['sites', 'Sector_num', 'CCE_Delta_21_18', 'CCE_Delta_21_26',\n",
       "       'CCE_Delta_21_09', 'UL_Delta_21_18', 'UL_Delta_21_26', 'UL_Delta_21_09',\n",
       "       'DL_Delta_21_18', 'DL_Delta_21_26', 'DL_Delta_21_09'],\n",
       "      dtype='object')"
      ]
     },
     "metadata": {},
     "execution_count": 4
    }
   ],
   "source": [
    "DATA.columns"
   ]
  },
  {
   "cell_type": "code",
   "execution_count": 5,
   "metadata": {},
   "outputs": [],
   "source": [
    "# Get indexes where name column has value 0\n",
    "index_Names = DATA[ (DATA['CCE_Delta_21_18'] == ' ') \n",
    "                   &(DATA['CCE_Delta_21_26'] == ' ')\n",
    "                   &(DATA['CCE_Delta_21_09'] == ' ')\n",
    "                   &(DATA['UL_Delta_21_18'] == ' ')\n",
    "                   &(DATA['UL_Delta_21_26'] == ' ')\n",
    "                   &(DATA['UL_Delta_21_09'] == ' ')\n",
    "                   &(DATA['DL_Delta_21_18'] == ' ')\n",
    "                   &(DATA['DL_Delta_21_26'] == ' ')\n",
    "                   &(DATA['DL_Delta_21_09'] == ' ')].index\n",
    "# Delete these row indexes from dataFrame\n",
    "DATA.drop(index_Names , inplace=True)"
   ]
  },
  {
   "cell_type": "code",
   "execution_count": 6,
   "metadata": {},
   "outputs": [],
   "source": [
    "DATA.to_csv('Deltas_Final.csv', index=False, index_label=False)"
   ]
  },
  {
   "cell_type": "code",
   "execution_count": 7,
   "metadata": {},
   "outputs": [],
   "source": [
    "############################################################################\n",
    "DATA2 = pd.read_csv('Deltas_Final.csv')"
   ]
  },
  {
   "cell_type": "code",
   "execution_count": null,
   "metadata": {},
   "outputs": [],
   "source": []
  }
 ]
}