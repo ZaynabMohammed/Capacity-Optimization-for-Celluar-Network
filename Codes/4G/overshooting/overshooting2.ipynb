{
 "metadata": {
  "language_info": {
   "codemirror_mode": {
    "name": "ipython",
    "version": 3
   },
   "file_extension": ".py",
   "mimetype": "text/x-python",
   "name": "python",
   "nbconvert_exporter": "python",
   "pygments_lexer": "ipython3",
   "version": "3.8.3"
  },
  "orig_nbformat": 2,
  "kernelspec": {
   "name": "python383jvsc74a57bd0cc5f70855ac006f3de45a3cc3b9e7d8d53845e50458809cb162b0174266dec97",
   "display_name": "Python 3.8.3 64-bit ('base': conda)"
  }
 },
 "nbformat": 4,
 "nbformat_minor": 2,
 "cells": [
  {
   "cell_type": "code",
   "execution_count": 1,
   "metadata": {},
   "outputs": [],
   "source": [
    "import pandas as pd \n",
    "import numpy as np\n",
    "import re "
   ]
  },
  {
   "cell_type": "code",
   "execution_count": 2,
   "metadata": {},
   "outputs": [],
   "source": [
    "data = pd.read_csv('DL_CQI_TA_.csv')"
   ]
  },
  {
   "cell_type": "code",
   "execution_count": 3,
   "metadata": {},
   "outputs": [
    {
     "output_type": "execute_result",
     "data": {
      "text/plain": [
       "['Date',\n",
       " 'eNodeB Name',\n",
       " 'eNodeB Function Name',\n",
       " 'Cell Name',\n",
       " 'LocalCell Id',\n",
       " 'Cell FDD TDD Indication',\n",
       " 'Integrity',\n",
       " 'L.ChMeas.CQI.DL.0',\n",
       " 'L.ChMeas.CQI.DL.1',\n",
       " 'L.ChMeas.CQI.DL.10',\n",
       " 'L.ChMeas.CQI.DL.11',\n",
       " 'L.ChMeas.CQI.DL.12',\n",
       " 'L.ChMeas.CQI.DL.13',\n",
       " 'L.ChMeas.CQI.DL.14',\n",
       " 'L.ChMeas.CQI.DL.15',\n",
       " 'L.ChMeas.CQI.DL.2',\n",
       " 'L.ChMeas.CQI.DL.3',\n",
       " 'L.ChMeas.CQI.DL.4',\n",
       " 'L.ChMeas.CQI.DL.5',\n",
       " 'L.ChMeas.CQI.DL.6',\n",
       " 'L.ChMeas.CQI.DL.7',\n",
       " 'L.ChMeas.CQI.DL.8',\n",
       " 'L.ChMeas.CQI.DL.9',\n",
       " 'L.RA.TA.UE.Index0',\n",
       " 'L.RA.TA.UE.Index1',\n",
       " 'L.RA.TA.UE.Index10',\n",
       " 'L.RA.TA.UE.Index11',\n",
       " 'L.RA.TA.UE.Index2',\n",
       " 'L.RA.TA.UE.Index3',\n",
       " 'L.RA.TA.UE.Index4',\n",
       " 'L.RA.TA.UE.Index5',\n",
       " 'L.RA.TA.UE.Index6',\n",
       " 'L.RA.TA.UE.Index7',\n",
       " 'L.RA.TA.UE.Index8',\n",
       " 'L.RA.TA.UE.Index9']"
      ]
     },
     "metadata": {},
     "execution_count": 3
    }
   ],
   "source": [
    "listCol = data.columns.array.to_numpy().tolist()\n",
    "listCol"
   ]
  },
  {
   "cell_type": "code",
   "execution_count": 56,
   "metadata": {},
   "outputs": [],
   "source": [
    "\n",
    "col={'eNodeB_Name' :data['eNodeB Name'],'eNodeB_Function_Name' :data['eNodeB Function Name'],'Cell_Name' :data['Cell Name'],'LocalCell_Id' :data['LocalCell Id']}\n",
    "df2=pd.DataFrame( col )\n",
    "for x in listCol[23:]:\n",
    "    df2[x] = data[x]"
   ]
  },
  {
   "cell_type": "code",
   "execution_count": 57,
   "metadata": {},
   "outputs": [
    {
     "output_type": "execute_result",
     "data": {
      "text/plain": [
       "['eNodeB_Name',\n",
       " 'eNodeB_Function_Name',\n",
       " 'Cell_Name',\n",
       " 'LocalCell_Id',\n",
       " 'L.RA.TA.UE.Index0',\n",
       " 'L.RA.TA.UE.Index1',\n",
       " 'L.RA.TA.UE.Index10',\n",
       " 'L.RA.TA.UE.Index11',\n",
       " 'L.RA.TA.UE.Index2',\n",
       " 'L.RA.TA.UE.Index3',\n",
       " 'L.RA.TA.UE.Index4',\n",
       " 'L.RA.TA.UE.Index5',\n",
       " 'L.RA.TA.UE.Index6',\n",
       " 'L.RA.TA.UE.Index7',\n",
       " 'L.RA.TA.UE.Index8',\n",
       " 'L.RA.TA.UE.Index9']"
      ]
     },
     "metadata": {},
     "execution_count": 57
    }
   ],
   "source": [
    "listCol_df2 = df2.columns.array.to_numpy().tolist()\n",
    "listCol_df2"
   ]
  },
  {
   "cell_type": "code",
   "execution_count": 62,
   "metadata": {},
   "outputs": [],
   "source": [
    "#print(df2.iat[0,5])\n",
    "#print(type (df2.iat[0,5])) "
   ]
  },
  {
   "cell_type": "code",
   "execution_count": 58,
   "metadata": {},
   "outputs": [],
   "source": [
    "for x in listCol_df2[4:]:\n",
    "    df2[x] = df2[x].astype(int)"
   ]
  },
  {
   "cell_type": "code",
   "execution_count": 59,
   "metadata": {},
   "outputs": [],
   "source": [
    "#drop rows of zeros\n",
    "df3=df2.loc[~(df2[listCol_df2[4:]]==0).all(axis=1)] "
   ]
  },
  {
   "cell_type": "code",
   "execution_count": 60,
   "metadata": {},
   "outputs": [],
   "source": [
    "#drop columns of zeros\r\n",
    "df3 = df3.loc[:, (df3 != 0).any(axis=0)]"
   ]
  },
  {
   "cell_type": "code",
   "execution_count": 61,
   "metadata": {},
   "outputs": [],
   "source": [
    "df3.to_csv('counters_only.csv', index=False, index_label=False)"
   ]
  },
  {
   "cell_type": "code",
   "execution_count": 13,
   "metadata": {},
   "outputs": [],
   "source": [
    "data2 = pd.read_csv('counters_only.csv')"
   ]
  },
  {
   "cell_type": "code",
   "execution_count": 14,
   "metadata": {},
   "outputs": [],
   "source": [
    "data2[\"sum\"] = data2.drop(['eNodeB_Name','eNodeB_Function_Name','Cell_Name','LocalCell_Id',], axis=1,inplace=False).sum(axis=1)"
   ]
  },
  {
   "cell_type": "code",
   "execution_count": 15,
   "metadata": {},
   "outputs": [],
   "source": [
    "data2.to_csv('CountersWithSum.csv', index=False, index_label=False)"
   ]
  },
  {
   "cell_type": "code",
   "execution_count": 41,
   "metadata": {},
   "outputs": [],
   "source": [
    "data3 = pd.read_csv('CountersWithSum.csv')"
   ]
  },
  {
   "cell_type": "code",
   "execution_count": 42,
   "metadata": {},
   "outputs": [],
   "source": [
    "data3 = data3.set_index(['eNodeB_Name','eNodeB_Function_Name','Cell_Name','LocalCell_Id',])\n",
    "data3 = data3.div(data3['sum'], axis=0)"
   ]
  },
  {
   "cell_type": "code",
   "execution_count": 43,
   "metadata": {},
   "outputs": [],
   "source": [
    "data3.to_csv('percentage.csv', index=False, index_label=False)\n"
   ]
  },
  {
   "cell_type": "code",
   "execution_count": 44,
   "metadata": {},
   "outputs": [],
   "source": [
    "data3.drop(['sum'], axis=1,inplace=True)"
   ]
  },
  {
   "cell_type": "code",
   "execution_count": 45,
   "metadata": {},
   "outputs": [],
   "source": [
    "#loop through all cell and get overshooting counters\n",
    "def getCounterAtOvershoot(dataset, dataWithcells):\n",
    "    sum = 0 \n",
    "    listOfCounters = { 'NameOfEnodB':[],'FunctionName-Of-EnodB':[],'NameOfCell':[],'ID-OfLocalCell':[],'MaxCounter':[],}\n",
    "    for i in range(0, 32869):\n",
    "        for col in dataset.columns:\n",
    "            sum = sum + dataset.iloc[i][col]\n",
    "            if sum >= 0.8:\n",
    "                listOfCounters['NameOfEnodB'].append(dataWithcells.iloc[i]['eNodeB_Name'])\n",
    "                listOfCounters['FunctionName-Of-EnodB'].append(dataWithcells.iloc[i]['eNodeB_Function_Name'])\n",
    "                listOfCounters['NameOfCell'].append(dataWithcells.iloc[i]['Cell_Name'])\n",
    "                listOfCounters['ID-OfLocalCell'].append(dataWithcells.iloc[i]['LocalCell_Id'])\n",
    "                listOfCounters['MaxCounter'].append(col)\n",
    "                sum = 0\n",
    "                break \n",
    "    return listOfCounters"
   ]
  },
  {
   "cell_type": "code",
   "execution_count": 46,
   "metadata": {},
   "outputs": [],
   "source": [
    "c = getCounterAtOvershoot(data3,data2)"
   ]
  },
  {
   "cell_type": "code",
   "execution_count": 47,
   "metadata": {},
   "outputs": [],
   "source": [
    "dataWithMaxCounter= pd.DataFrame.from_dict(c)"
   ]
  },
  {
   "cell_type": "code",
   "execution_count": 48,
   "metadata": {},
   "outputs": [],
   "source": [
    "dataWithMaxCounter.to_csv('CellsWithMaxCounter.csv', index=False, index_label=False)"
   ]
  },
  {
   "cell_type": "code",
   "execution_count": 49,
   "metadata": {},
   "outputs": [],
   "source": [
    "listOfCounters={\n",
    " 'L.RA.TA.UE.Index0':[0,156],\n",
    " 'L.RA.TA.UE.Index1':[156,312],\n",
    " 'L.RA.TA.UE.Index2':[312,624],\n",
    " 'L.RA.TA.UE.Index3':[624,1092],\n",
    " 'L.RA.TA.UE.Index4':[1092,2028],\n",
    " 'L.RA.TA.UE.Index5':[2028,3588],\n",
    " 'L.RA.TA.UE.Index6':[3588,6630],\n",
    " 'L.RA.TA.UE.Index7':[6708,14508],\n",
    " 'L.RA.TA.UE.Index8':[14508,30108],\n",
    " 'L.RA.TA.UE.Index9':[30108,53508],\n",
    " 'L.RA.TA.UE.Index10':[53508,76908],\n",
    " 'L.RA.TA.UE.Index11':[76908],\n",
    "}"
   ]
  },
  {
   "cell_type": "code",
   "execution_count": 50,
   "metadata": {},
   "outputs": [],
   "source": [
    "CELLS_WITH_COUNTERS = pd.read_csv('CellsWithMaxCounter.csv')"
   ]
  },
  {
   "cell_type": "code",
   "execution_count": 55,
   "metadata": {},
   "outputs": [],
   "source": [
    "def getDistance(SetWithCounters): \n",
    "    list1 = []\n",
    "    list2 = []\n",
    "    for i in range(0, 32869): \n",
    "        for key , value in listOfCounters.items(): \n",
    "            if key == SetWithCounters.iloc[i]['MaxCounter']:\n",
    "                list1.append(value[0])\n",
    "                list2.append(value[1])\n",
    "    SetWithCounters.insert(5, 'MinDistance', list1, True)\n",
    "    SetWithCounters.insert(6, 'MaxDistance', list2, True)\n",
    "    return SetWithCounters "
   ]
  },
  {
   "cell_type": "code",
   "execution_count": 56,
   "metadata": {},
   "outputs": [],
   "source": [
    "CELLS_WITH_DISTANCE = getDistance(CELLS_WITH_COUNTERS)"
   ]
  },
  {
   "cell_type": "code",
   "execution_count": 57,
   "metadata": {},
   "outputs": [],
   "source": [
    "CELLS_WITH_DISTANCE.to_csv('CELLS_WITH_DISTANCE_Range.csv', index=False, index_label=False)"
   ]
  },
  {
   "cell_type": "code",
   "execution_count": 2,
   "metadata": {},
   "outputs": [],
   "source": [
    "###############################################################################################################\n",
    "####################--------MERGE_site_to_siteWith_CELLS_WITH_DISTANCE_Range----------#########################\n",
    "###############################################################################################################\n",
    "df1= pd.read_csv('CELLS_WITH_DISTANCE_Range.csv')\n",
    "df2 = pd.read_csv('Site_To_Site_Distance.csv')\n"
   ]
  },
  {
   "cell_type": "code",
   "execution_count": 4,
   "metadata": {},
   "outputs": [],
   "source": [
    "##-->drop_cell_which_has_[AvgSiteToSiteDistance==0]<--##\n",
    "df2 = df2[(df2[['AvgSiteToSiteDistance']] != 0).all(axis=1)]"
   ]
  },
  {
   "cell_type": "code",
   "execution_count": 8,
   "metadata": {},
   "outputs": [],
   "source": [
    "new_df=df1.merge( df2.set_index('NameOfCell'), on='NameOfCell')"
   ]
  },
  {
   "cell_type": "code",
   "execution_count": 18,
   "metadata": {},
   "outputs": [],
   "source": [
    "new_df = new_df.T.drop_duplicates().T"
   ]
  },
  {
   "cell_type": "code",
   "execution_count": 19,
   "metadata": {},
   "outputs": [],
   "source": [
    "new_df.to_csv('AfterMerge.csv', index=False, index_label=False)"
   ]
  },
  {
   "cell_type": "code",
   "execution_count": 2,
   "metadata": {},
   "outputs": [],
   "source": [
    "#########################################################\n",
    "df3= pd.read_csv('AfterMerge.csv')"
   ]
  },
  {
   "cell_type": "code",
   "execution_count": 3,
   "metadata": {},
   "outputs": [],
   "source": [
    "#loop to GET_OVERSHOOTING_Indicator\n",
    "def getOvershootIndicator(dataset):\n",
    "    MinOvershoot_Idicator=[]\n",
    "    MaxOvershoot_Idicator=[]\n",
    "    for i in range(0, 32697):\n",
    "        MinOvershoot_Idicator.append(dataset['MinDistance'][i]/ ((dataset['AvgSiteToSiteDistance'][i])*1000))\n",
    "        MaxOvershoot_Idicator.append(dataset['MaxDistance'][i]/((dataset['AvgSiteToSiteDistance'][i])*1000))\n",
    "               \n",
    "    dataset.insert(9, 'MinOvershoot_Idicator', MinOvershoot_Idicator, True)\n",
    "    dataset.insert(10, 'MaxOvershoot_Idicator', MaxOvershoot_Idicator, True)\n",
    "    return dataset "
   ]
  },
  {
   "cell_type": "code",
   "execution_count": 4,
   "metadata": {},
   "outputs": [],
   "source": [
    "Indicators=getOvershootIndicator(df3)"
   ]
  },
  {
   "cell_type": "code",
   "execution_count": 6,
   "metadata": {},
   "outputs": [],
   "source": [
    "############################################################################################################\n",
    "###############------------->Loop to Compare_OVERSHOOTING_Indicator_With_Threshold ==2 <----------###########\n",
    "############################################################################################################\n",
    "def getOvershootingCells(dataset):\n",
    "    #MIN_Overshooting=[]\n",
    "    MAX_Overshooting=[]\n",
    "    for i in range(0, 32697):\n",
    "        #if (dataset['MinOvershoot_Idicator'][i]>= dataset['DISTANCE_Threshold'][i]):\n",
    "        #    MIN_Overshooting.append('YES_overshooted')\n",
    "        #else:\n",
    "        #    MIN_Overshooting.append('Not_overshooted')\n",
    "        if (dataset['MaxOvershoot_Idicator'][i]>= 2):\n",
    "            MAX_Overshooting.append('YES_overshooted')\n",
    "        else:   \n",
    "            MAX_Overshooting.append('NOT_overshooted')\n",
    "\n",
    "    #dataset.insert(11, 'OvershootingOnMinIdicator', MIN_Overshooting, True)\n",
    "    dataset.insert(11, 'OvershootingOnMaxIdicator', MAX_Overshooting, True)\n",
    "    return dataset "
   ]
  },
  {
   "cell_type": "code",
   "execution_count": 7,
   "metadata": {},
   "outputs": [],
   "source": [
    "overshooting=getOvershootingCells(df3)"
   ]
  },
  {
   "cell_type": "code",
   "execution_count": 8,
   "metadata": {},
   "outputs": [],
   "source": [
    "############################################################################################################\n",
    "###############------------->IF_RURAL_compare_Footrrint_With_Threshold = 5km<----------#################################\n",
    "###############------------->IF_dense_compare_Footprint_With_Threshold = 1km<----------#################################\n",
    "############################################################################################################\n",
    "def getOvershootingCells2(dataset):\n",
    "    MAX_Overshooting=[]\n",
    "    for i in range(0, 32697):\n",
    "        if (dataset['MaxDistance'][i]>= dataset['DISTANCE_Threshold'][i]*1000): #MaxDistance in [m] && DISTANCE_Threshold in [Km]\n",
    "            MAX_Overshooting.append('YES_overshooted')\n",
    "        else:   \n",
    "            MAX_Overshooting.append('NOT_overshooted')\n",
    "\n",
    "    dataset.insert(11, 'OvershootingOnDISTANCE_Threshold', MAX_Overshooting, True)\n",
    "    return dataset "
   ]
  },
  {
   "cell_type": "code",
   "execution_count": 10,
   "metadata": {},
   "outputs": [],
   "source": [
    "overshooting2=getOvershootingCells2(df3)"
   ]
  },
  {
   "cell_type": "code",
   "execution_count": 11,
   "metadata": {},
   "outputs": [],
   "source": [
    "overshooting.to_csv('OvershootingCells.csv', index=False, index_label=False)"
   ]
  },
  {
   "cell_type": "code",
   "execution_count": null,
   "metadata": {},
   "outputs": [],
   "source": []
  }
 ]
}